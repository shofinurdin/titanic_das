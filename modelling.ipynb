{
 "cells": [
  {
   "cell_type": "code",
   "execution_count": 1,
   "id": "a287daab",
   "metadata": {
    "ExecuteTime": {
     "end_time": "2023-05-27T09:30:29.976238Z",
     "start_time": "2023-05-27T09:30:29.098416Z"
    }
   },
   "outputs": [],
   "source": [
    "import numpy as np # linear algebra\n",
    "import pandas as pd\n",
    "import joblib"
   ]
  },
  {
   "cell_type": "code",
   "execution_count": 3,
   "id": "212f61ea",
   "metadata": {
    "ExecuteTime": {
     "end_time": "2023-05-27T09:31:26.973325Z",
     "start_time": "2023-05-27T09:31:26.963146Z"
    }
   },
   "outputs": [],
   "source": [
    "#load data\n",
    "df_titanic = pd.read_csv('titanic.csv')"
   ]
  },
  {
   "cell_type": "code",
   "execution_count": 4,
   "id": "af294d9d",
   "metadata": {
    "ExecuteTime": {
     "end_time": "2023-05-27T09:31:36.680463Z",
     "start_time": "2023-05-27T09:31:36.632952Z"
    }
   },
   "outputs": [
    {
     "data": {
      "text/html": [
       "<div>\n",
       "<style scoped>\n",
       "    .dataframe tbody tr th:only-of-type {\n",
       "        vertical-align: middle;\n",
       "    }\n",
       "\n",
       "    .dataframe tbody tr th {\n",
       "        vertical-align: top;\n",
       "    }\n",
       "\n",
       "    .dataframe thead th {\n",
       "        text-align: right;\n",
       "    }\n",
       "</style>\n",
       "<table border=\"1\" class=\"dataframe\">\n",
       "  <thead>\n",
       "    <tr style=\"text-align: right;\">\n",
       "      <th></th>\n",
       "      <th>PassengerId</th>\n",
       "      <th>Survived</th>\n",
       "      <th>Pclass</th>\n",
       "      <th>Name</th>\n",
       "      <th>Sex</th>\n",
       "      <th>Age</th>\n",
       "      <th>SibSp</th>\n",
       "      <th>Parch</th>\n",
       "      <th>Ticket</th>\n",
       "      <th>Fare</th>\n",
       "      <th>Cabin</th>\n",
       "      <th>Embarked</th>\n",
       "    </tr>\n",
       "  </thead>\n",
       "  <tbody>\n",
       "    <tr>\n",
       "      <th>0</th>\n",
       "      <td>1</td>\n",
       "      <td>0</td>\n",
       "      <td>3</td>\n",
       "      <td>Braund, Mr. Owen Harris</td>\n",
       "      <td>male</td>\n",
       "      <td>22.0</td>\n",
       "      <td>1</td>\n",
       "      <td>0</td>\n",
       "      <td>A/5 21171</td>\n",
       "      <td>7.2500</td>\n",
       "      <td>NaN</td>\n",
       "      <td>S</td>\n",
       "    </tr>\n",
       "    <tr>\n",
       "      <th>1</th>\n",
       "      <td>2</td>\n",
       "      <td>1</td>\n",
       "      <td>1</td>\n",
       "      <td>Cumings, Mrs. John Bradley (Florence Briggs Th...</td>\n",
       "      <td>female</td>\n",
       "      <td>38.0</td>\n",
       "      <td>1</td>\n",
       "      <td>0</td>\n",
       "      <td>PC 17599</td>\n",
       "      <td>71.2833</td>\n",
       "      <td>C85</td>\n",
       "      <td>C</td>\n",
       "    </tr>\n",
       "    <tr>\n",
       "      <th>2</th>\n",
       "      <td>3</td>\n",
       "      <td>1</td>\n",
       "      <td>3</td>\n",
       "      <td>Heikkinen, Miss. Laina</td>\n",
       "      <td>female</td>\n",
       "      <td>26.0</td>\n",
       "      <td>0</td>\n",
       "      <td>0</td>\n",
       "      <td>STON/O2. 3101282</td>\n",
       "      <td>7.9250</td>\n",
       "      <td>NaN</td>\n",
       "      <td>S</td>\n",
       "    </tr>\n",
       "    <tr>\n",
       "      <th>3</th>\n",
       "      <td>4</td>\n",
       "      <td>1</td>\n",
       "      <td>1</td>\n",
       "      <td>Futrelle, Mrs. Jacques Heath (Lily May Peel)</td>\n",
       "      <td>female</td>\n",
       "      <td>35.0</td>\n",
       "      <td>1</td>\n",
       "      <td>0</td>\n",
       "      <td>113803</td>\n",
       "      <td>53.1000</td>\n",
       "      <td>C123</td>\n",
       "      <td>S</td>\n",
       "    </tr>\n",
       "    <tr>\n",
       "      <th>4</th>\n",
       "      <td>5</td>\n",
       "      <td>0</td>\n",
       "      <td>3</td>\n",
       "      <td>Allen, Mr. William Henry</td>\n",
       "      <td>male</td>\n",
       "      <td>35.0</td>\n",
       "      <td>0</td>\n",
       "      <td>0</td>\n",
       "      <td>373450</td>\n",
       "      <td>8.0500</td>\n",
       "      <td>NaN</td>\n",
       "      <td>S</td>\n",
       "    </tr>\n",
       "  </tbody>\n",
       "</table>\n",
       "</div>"
      ],
      "text/plain": [
       "   PassengerId  Survived  Pclass  \\\n",
       "0            1         0       3   \n",
       "1            2         1       1   \n",
       "2            3         1       3   \n",
       "3            4         1       1   \n",
       "4            5         0       3   \n",
       "\n",
       "                                                Name     Sex   Age  SibSp  \\\n",
       "0                            Braund, Mr. Owen Harris    male  22.0      1   \n",
       "1  Cumings, Mrs. John Bradley (Florence Briggs Th...  female  38.0      1   \n",
       "2                             Heikkinen, Miss. Laina  female  26.0      0   \n",
       "3       Futrelle, Mrs. Jacques Heath (Lily May Peel)  female  35.0      1   \n",
       "4                           Allen, Mr. William Henry    male  35.0      0   \n",
       "\n",
       "   Parch            Ticket     Fare Cabin Embarked  \n",
       "0      0         A/5 21171   7.2500   NaN        S  \n",
       "1      0          PC 17599  71.2833   C85        C  \n",
       "2      0  STON/O2. 3101282   7.9250   NaN        S  \n",
       "3      0            113803  53.1000  C123        S  \n",
       "4      0            373450   8.0500   NaN        S  "
      ]
     },
     "execution_count": 4,
     "metadata": {},
     "output_type": "execute_result"
    }
   ],
   "source": [
    "df_titanic.head()"
   ]
  },
  {
   "cell_type": "code",
   "execution_count": 6,
   "id": "6478a245",
   "metadata": {
    "ExecuteTime": {
     "end_time": "2023-05-27T09:46:31.658798Z",
     "start_time": "2023-05-27T09:46:31.621721Z"
    }
   },
   "outputs": [],
   "source": [
    "df_clear=pd.read_csv('df_titanic_clear.csv')"
   ]
  },
  {
   "cell_type": "code",
   "execution_count": 35,
   "id": "8aefda64",
   "metadata": {
    "ExecuteTime": {
     "end_time": "2023-05-27T10:13:24.946576Z",
     "start_time": "2023-05-27T10:13:24.913636Z"
    },
    "scrolled": true
   },
   "outputs": [
    {
     "data": {
      "text/html": [
       "<div>\n",
       "<style scoped>\n",
       "    .dataframe tbody tr th:only-of-type {\n",
       "        vertical-align: middle;\n",
       "    }\n",
       "\n",
       "    .dataframe tbody tr th {\n",
       "        vertical-align: top;\n",
       "    }\n",
       "\n",
       "    .dataframe thead th {\n",
       "        text-align: right;\n",
       "    }\n",
       "</style>\n",
       "<table border=\"1\" class=\"dataframe\">\n",
       "  <thead>\n",
       "    <tr style=\"text-align: right;\">\n",
       "      <th></th>\n",
       "      <th>Survived</th>\n",
       "      <th>Pclass</th>\n",
       "      <th>Fare_dbscan</th>\n",
       "      <th>Sex_enc</th>\n",
       "      <th>Embarked_enc</th>\n",
       "      <th>Mr</th>\n",
       "      <th>Mrs</th>\n",
       "      <th>Miss</th>\n",
       "      <th>Master</th>\n",
       "      <th>Other</th>\n",
       "      <th>young_adult</th>\n",
       "      <th>adult</th>\n",
       "      <th>elderly</th>\n",
       "      <th>child</th>\n",
       "    </tr>\n",
       "  </thead>\n",
       "  <tbody>\n",
       "    <tr>\n",
       "      <th>0</th>\n",
       "      <td>0</td>\n",
       "      <td>3</td>\n",
       "      <td>7.2500</td>\n",
       "      <td>0</td>\n",
       "      <td>2</td>\n",
       "      <td>1</td>\n",
       "      <td>0</td>\n",
       "      <td>0</td>\n",
       "      <td>0</td>\n",
       "      <td>0</td>\n",
       "      <td>1</td>\n",
       "      <td>0</td>\n",
       "      <td>0</td>\n",
       "      <td>0</td>\n",
       "    </tr>\n",
       "    <tr>\n",
       "      <th>1</th>\n",
       "      <td>1</td>\n",
       "      <td>1</td>\n",
       "      <td>71.2833</td>\n",
       "      <td>1</td>\n",
       "      <td>0</td>\n",
       "      <td>0</td>\n",
       "      <td>1</td>\n",
       "      <td>0</td>\n",
       "      <td>0</td>\n",
       "      <td>0</td>\n",
       "      <td>0</td>\n",
       "      <td>1</td>\n",
       "      <td>0</td>\n",
       "      <td>0</td>\n",
       "    </tr>\n",
       "    <tr>\n",
       "      <th>2</th>\n",
       "      <td>1</td>\n",
       "      <td>3</td>\n",
       "      <td>7.9250</td>\n",
       "      <td>1</td>\n",
       "      <td>2</td>\n",
       "      <td>0</td>\n",
       "      <td>0</td>\n",
       "      <td>1</td>\n",
       "      <td>0</td>\n",
       "      <td>0</td>\n",
       "      <td>1</td>\n",
       "      <td>0</td>\n",
       "      <td>0</td>\n",
       "      <td>0</td>\n",
       "    </tr>\n",
       "    <tr>\n",
       "      <th>3</th>\n",
       "      <td>1</td>\n",
       "      <td>1</td>\n",
       "      <td>53.1000</td>\n",
       "      <td>1</td>\n",
       "      <td>2</td>\n",
       "      <td>0</td>\n",
       "      <td>1</td>\n",
       "      <td>0</td>\n",
       "      <td>0</td>\n",
       "      <td>0</td>\n",
       "      <td>0</td>\n",
       "      <td>1</td>\n",
       "      <td>0</td>\n",
       "      <td>0</td>\n",
       "    </tr>\n",
       "    <tr>\n",
       "      <th>4</th>\n",
       "      <td>0</td>\n",
       "      <td>3</td>\n",
       "      <td>8.0500</td>\n",
       "      <td>0</td>\n",
       "      <td>2</td>\n",
       "      <td>1</td>\n",
       "      <td>0</td>\n",
       "      <td>0</td>\n",
       "      <td>0</td>\n",
       "      <td>0</td>\n",
       "      <td>0</td>\n",
       "      <td>1</td>\n",
       "      <td>0</td>\n",
       "      <td>0</td>\n",
       "    </tr>\n",
       "  </tbody>\n",
       "</table>\n",
       "</div>"
      ],
      "text/plain": [
       "   Survived  Pclass  Fare_dbscan  Sex_enc  Embarked_enc  Mr  Mrs  Miss  \\\n",
       "0         0       3       7.2500        0             2   1    0     0   \n",
       "1         1       1      71.2833        1             0   0    1     0   \n",
       "2         1       3       7.9250        1             2   0    0     1   \n",
       "3         1       1      53.1000        1             2   0    1     0   \n",
       "4         0       3       8.0500        0             2   1    0     0   \n",
       "\n",
       "   Master  Other  young_adult  adult  elderly  child  \n",
       "0       0      0            1      0        0      0  \n",
       "1       0      0            0      1        0      0  \n",
       "2       0      0            1      0        0      0  \n",
       "3       0      0            0      1        0      0  \n",
       "4       0      0            0      1        0      0  "
      ]
     },
     "execution_count": 35,
     "metadata": {},
     "output_type": "execute_result"
    }
   ],
   "source": [
    "df_clear.head()"
   ]
  },
  {
   "cell_type": "code",
   "execution_count": 40,
   "id": "393c870d",
   "metadata": {
    "ExecuteTime": {
     "end_time": "2023-05-27T10:46:41.476636Z",
     "start_time": "2023-05-27T10:46:41.468895Z"
    }
   },
   "outputs": [],
   "source": [
    "# df_clear['Fare_dbscan'].unique()"
   ]
  },
  {
   "cell_type": "code",
   "execution_count": null,
   "id": "ad7bca84",
   "metadata": {},
   "outputs": [],
   "source": [
    "# Survived : 0 : dead, 1 : alive\n",
    "# Pclass : 1 , 2 , 3\n",
    "# sex_enc : 0 :male, 1:female\n",
    "# Embarked  0:C, 1:Q , 2:S\n",
    "# Mr, Mrs, Miss, Other \n",
    "                'Mlle': 'Miss',\n",
    "                 'Mme': 'Miss',\n",
    "                 'Ms': 'Miss',\n",
    "                 'Dr': 'Mr',\n",
    "                 'Major': 'Mr',\n",
    "                 'Lady': 'Mrs',\n",
    "                 'Countess': 'Mrs',\n",
    "                 'Jonkheer': 'Other',\n",
    "                 'Col': 'Other',\n",
    "                 'Rev': 'Other',\n",
    "                 'Capt': 'Mr',\n",
    "                 'Sir': 'Mr',\n",
    "                 'Don': 'Mr'\n",
    "                    \n",
    "# child  : 0-15\n",
    "# young_adult: 16-30\n",
    "# adult : 31 -50\n",
    "# ederly :51-100\n",
    "\n",
    "\n"
   ]
  },
  {
   "cell_type": "code",
   "execution_count": 10,
   "id": "f4baac6c",
   "metadata": {
    "ExecuteTime": {
     "end_time": "2023-05-27T09:52:26.521092Z",
     "start_time": "2023-05-27T09:52:25.524766Z"
    }
   },
   "outputs": [],
   "source": [
    "from sklearn.model_selection import train_test_split\n",
    "\n",
    "# Memisahkan fitur dan label dari data Anda\n",
    "X = df_clear.drop('Survived', axis=1)\n",
    "y = df_clear['Survived']\n",
    "# Memisahkan data menjadi set pelatihan dan set pengujian\n",
    "X_train, X_test, y_train, y_test = train_test_split(X, y, test_size=0.2, random_state=42)\n"
   ]
  },
  {
   "cell_type": "code",
   "execution_count": 11,
   "id": "62ccb1b5",
   "metadata": {
    "ExecuteTime": {
     "end_time": "2023-05-27T09:52:39.704528Z",
     "start_time": "2023-05-27T09:52:39.372309Z"
    }
   },
   "outputs": [],
   "source": [
    "from sklearn.ensemble import RandomForestClassifier\n",
    "\n",
    "model = RandomForestClassifier()\n",
    "model.fit(X, y)\n",
    "\n",
    "feature_importances = model.feature_importances_\n",
    "fitur=[]\n",
    "nilai=[]\n",
    "for feature, importance in zip(X.columns, feature_importances):\n",
    "    fitur.append(feature)\n",
    "    nilai.append(importance)"
   ]
  },
  {
   "cell_type": "code",
   "execution_count": 12,
   "id": "9ef316d5",
   "metadata": {
    "ExecuteTime": {
     "end_time": "2023-05-27T09:52:55.942898Z",
     "start_time": "2023-05-27T09:52:55.930441Z"
    }
   },
   "outputs": [
    {
     "data": {
      "text/html": [
       "<div>\n",
       "<style scoped>\n",
       "    .dataframe tbody tr th:only-of-type {\n",
       "        vertical-align: middle;\n",
       "    }\n",
       "\n",
       "    .dataframe tbody tr th {\n",
       "        vertical-align: top;\n",
       "    }\n",
       "\n",
       "    .dataframe thead th {\n",
       "        text-align: right;\n",
       "    }\n",
       "</style>\n",
       "<table border=\"1\" class=\"dataframe\">\n",
       "  <thead>\n",
       "    <tr style=\"text-align: right;\">\n",
       "      <th></th>\n",
       "      <th>Fature</th>\n",
       "      <th>Nilai</th>\n",
       "    </tr>\n",
       "  </thead>\n",
       "  <tbody>\n",
       "    <tr>\n",
       "      <th>1</th>\n",
       "      <td>Fare_dbscan</td>\n",
       "      <td>0.410668</td>\n",
       "    </tr>\n",
       "    <tr>\n",
       "      <th>4</th>\n",
       "      <td>Mr</td>\n",
       "      <td>0.137102</td>\n",
       "    </tr>\n",
       "    <tr>\n",
       "      <th>2</th>\n",
       "      <td>Sex_enc</td>\n",
       "      <td>0.132619</td>\n",
       "    </tr>\n",
       "    <tr>\n",
       "      <th>0</th>\n",
       "      <td>Pclass</td>\n",
       "      <td>0.123231</td>\n",
       "    </tr>\n",
       "    <tr>\n",
       "      <th>6</th>\n",
       "      <td>Miss</td>\n",
       "      <td>0.045815</td>\n",
       "    </tr>\n",
       "    <tr>\n",
       "      <th>3</th>\n",
       "      <td>Embarked_enc</td>\n",
       "      <td>0.044311</td>\n",
       "    </tr>\n",
       "    <tr>\n",
       "      <th>5</th>\n",
       "      <td>Mrs</td>\n",
       "      <td>0.040812</td>\n",
       "    </tr>\n",
       "    <tr>\n",
       "      <th>10</th>\n",
       "      <td>adult</td>\n",
       "      <td>0.014441</td>\n",
       "    </tr>\n",
       "    <tr>\n",
       "      <th>9</th>\n",
       "      <td>young_adult</td>\n",
       "      <td>0.013016</td>\n",
       "    </tr>\n",
       "    <tr>\n",
       "      <th>12</th>\n",
       "      <td>child</td>\n",
       "      <td>0.012173</td>\n",
       "    </tr>\n",
       "    <tr>\n",
       "      <th>7</th>\n",
       "      <td>Master</td>\n",
       "      <td>0.011714</td>\n",
       "    </tr>\n",
       "    <tr>\n",
       "      <th>11</th>\n",
       "      <td>elderly</td>\n",
       "      <td>0.008071</td>\n",
       "    </tr>\n",
       "    <tr>\n",
       "      <th>8</th>\n",
       "      <td>Other</td>\n",
       "      <td>0.006026</td>\n",
       "    </tr>\n",
       "  </tbody>\n",
       "</table>\n",
       "</div>"
      ],
      "text/plain": [
       "          Fature     Nilai\n",
       "1    Fare_dbscan  0.410668\n",
       "4             Mr  0.137102\n",
       "2        Sex_enc  0.132619\n",
       "0         Pclass  0.123231\n",
       "6           Miss  0.045815\n",
       "3   Embarked_enc  0.044311\n",
       "5            Mrs  0.040812\n",
       "10         adult  0.014441\n",
       "9    young_adult  0.013016\n",
       "12         child  0.012173\n",
       "7         Master  0.011714\n",
       "11       elderly  0.008071\n",
       "8          Other  0.006026"
      ]
     },
     "execution_count": 12,
     "metadata": {},
     "output_type": "execute_result"
    }
   ],
   "source": [
    "feature_importan= pd.DataFrame({'Fiture':fitur, 'Nilai':nilai})\n",
    "feature_importan.sort_values(by='Nilai', ascending=False)"
   ]
  },
  {
   "cell_type": "code",
   "execution_count": 13,
   "id": "dc292b35",
   "metadata": {
    "ExecuteTime": {
     "end_time": "2023-05-27T09:53:25.786833Z",
     "start_time": "2023-05-27T09:53:19.571571Z"
    }
   },
   "outputs": [
    {
     "name": "stdout",
     "output_type": "stream",
     "text": [
      "Fitting 3 folds for each of 81 candidates, totalling 243 fits\n",
      "RandomForestClassifier(bootstrap=False, max_depth=20, min_samples_leaf=2,\n",
      "                       min_samples_split=10, n_estimators=5)\n"
     ]
    }
   ],
   "source": [
    "from sklearn.model_selection import GridSearchCV\n",
    "\n",
    "param_grid = {'n_estimators': [5,10,50],\n",
    "               'max_depth': [5,10,20],\n",
    "               'min_samples_split': [2,5,10],\n",
    "               'min_samples_leaf': [2,5,10],\n",
    "               'bootstrap': [False],\n",
    "                'criterion': ['gini']}\n",
    "gs = GridSearchCV(model, param_grid=param_grid, cv = 3, verbose=1, n_jobs=-1)\n",
    "gs.fit(X, y)\n",
    "print(gs.best_estimator_)"
   ]
  },
  {
   "cell_type": "code",
   "execution_count": 14,
   "id": "fd90d0cd",
   "metadata": {
    "ExecuteTime": {
     "end_time": "2023-05-27T09:53:42.645051Z",
     "start_time": "2023-05-27T09:53:42.629763Z"
    }
   },
   "outputs": [],
   "source": [
    "predictions = gs.best_estimator_.predict(X_test)"
   ]
  },
  {
   "cell_type": "code",
   "execution_count": 20,
   "id": "218cb98b",
   "metadata": {
    "ExecuteTime": {
     "end_time": "2023-05-27T09:55:49.565381Z",
     "start_time": "2023-05-27T09:55:49.561935Z"
    }
   },
   "outputs": [],
   "source": [
    "actual=y_test"
   ]
  },
  {
   "cell_type": "code",
   "execution_count": 21,
   "id": "dab43f4d",
   "metadata": {
    "ExecuteTime": {
     "end_time": "2023-05-27T09:55:50.321334Z",
     "start_time": "2023-05-27T09:55:50.306005Z"
    }
   },
   "outputs": [
    {
     "name": "stdout",
     "output_type": "stream",
     "text": [
      "[[96  9]\n",
      " [ 9 65]]\n",
      "Accuracy score: 0.9\n",
      "Recall score: 0.88\n",
      "Precision score: 0.88\n",
      "F1 score: 0.88\n"
     ]
    }
   ],
   "source": [
    "from sklearn.metrics import confusion_matrix, accuracy_score, recall_score, precision_score, f1_score\n",
    "\n",
    "conf_matrix = confusion_matrix(actual, predictions)\n",
    "\n",
    "\n",
    "\n",
    "print(conf_matrix)\n",
    "print('Accuracy score:', round(accuracy_score(actual, predictions),2))\n",
    "print('Recall score:', round(recall_score(actual, predictions),2))\n",
    "print('Precision score:', round(precision_score(actual, predictions),2))\n",
    "print('F1 score:', round(f1_score(actual, predictions),2))"
   ]
  },
  {
   "cell_type": "code",
   "execution_count": 22,
   "id": "374a6d81",
   "metadata": {
    "ExecuteTime": {
     "end_time": "2023-05-27T09:56:55.791242Z",
     "start_time": "2023-05-27T09:56:55.782156Z"
    }
   },
   "outputs": [],
   "source": [
    "model_rf= RandomForestClassifier(bootstrap=False, max_depth=20, min_samples_leaf=2,\n",
    "                       min_samples_split=10, n_estimators=5)"
   ]
  },
  {
   "cell_type": "code",
   "execution_count": 26,
   "id": "40ec0c8c",
   "metadata": {
    "ExecuteTime": {
     "end_time": "2023-05-27T09:58:24.481678Z",
     "start_time": "2023-05-27T09:58:24.469210Z"
    }
   },
   "outputs": [
    {
     "data": {
      "text/plain": [
       "['model.joblib']"
      ]
     },
     "execution_count": 26,
     "metadata": {},
     "output_type": "execute_result"
    }
   ],
   "source": [
    "joblib.dump(model_rf, 'model.joblib')"
   ]
  },
  {
   "cell_type": "code",
   "execution_count": 30,
   "id": "25f4828f",
   "metadata": {
    "ExecuteTime": {
     "end_time": "2023-05-27T10:00:41.537379Z",
     "start_time": "2023-05-27T10:00:41.523322Z"
    }
   },
   "outputs": [],
   "source": [
    "model_loaded = joblib.load('model.joblib')"
   ]
  },
  {
   "cell_type": "code",
   "execution_count": 31,
   "id": "92ac2f0f",
   "metadata": {
    "ExecuteTime": {
     "end_time": "2023-05-27T10:00:42.310498Z",
     "start_time": "2023-05-27T10:00:42.294521Z"
    }
   },
   "outputs": [
    {
     "data": {
      "text/html": [
       "<div>\n",
       "<style scoped>\n",
       "    .dataframe tbody tr th:only-of-type {\n",
       "        vertical-align: middle;\n",
       "    }\n",
       "\n",
       "    .dataframe tbody tr th {\n",
       "        vertical-align: top;\n",
       "    }\n",
       "\n",
       "    .dataframe thead th {\n",
       "        text-align: right;\n",
       "    }\n",
       "</style>\n",
       "<table border=\"1\" class=\"dataframe\">\n",
       "  <thead>\n",
       "    <tr style=\"text-align: right;\">\n",
       "      <th></th>\n",
       "      <th>Pclass</th>\n",
       "      <th>Fare_dbscan</th>\n",
       "      <th>Sex_enc</th>\n",
       "      <th>Embarked_enc</th>\n",
       "      <th>Mr</th>\n",
       "      <th>Mrs</th>\n",
       "      <th>Miss</th>\n",
       "      <th>Master</th>\n",
       "      <th>Other</th>\n",
       "      <th>young_adult</th>\n",
       "      <th>adult</th>\n",
       "      <th>elderly</th>\n",
       "      <th>child</th>\n",
       "    </tr>\n",
       "  </thead>\n",
       "  <tbody>\n",
       "    <tr>\n",
       "      <th>0</th>\n",
       "      <td>3</td>\n",
       "      <td>7.25</td>\n",
       "      <td>0</td>\n",
       "      <td>2</td>\n",
       "      <td>1</td>\n",
       "      <td>0</td>\n",
       "      <td>0</td>\n",
       "      <td>0</td>\n",
       "      <td>0</td>\n",
       "      <td>1</td>\n",
       "      <td>0</td>\n",
       "      <td>0</td>\n",
       "      <td>0</td>\n",
       "    </tr>\n",
       "  </tbody>\n",
       "</table>\n",
       "</div>"
      ],
      "text/plain": [
       "   Pclass  Fare_dbscan  Sex_enc  Embarked_enc  Mr  Mrs  Miss  Master  Other  \\\n",
       "0       3         7.25        0             2   1    0     0       0      0   \n",
       "\n",
       "   young_adult  adult  elderly  child  \n",
       "0            1      0        0      0  "
      ]
     },
     "execution_count": 31,
     "metadata": {},
     "output_type": "execute_result"
    }
   ],
   "source": [
    "X[:1]"
   ]
  },
  {
   "cell_type": "code",
   "execution_count": 32,
   "id": "e1707dad",
   "metadata": {
    "ExecuteTime": {
     "end_time": "2023-05-27T10:00:50.207573Z",
     "start_time": "2023-05-27T10:00:50.196224Z"
    }
   },
   "outputs": [
    {
     "data": {
      "text/plain": [
       "array([1])"
      ]
     },
     "execution_count": 32,
     "metadata": {},
     "output_type": "execute_result"
    }
   ],
   "source": [
    "y_predict = model_loaded.predict(X[1:2])\n",
    "y_predict"
   ]
  },
  {
   "cell_type": "markdown",
   "id": "110baaeb",
   "metadata": {},
   "source": [
    "# Probabilitas"
   ]
  },
  {
   "cell_type": "code",
   "execution_count": 33,
   "id": "25060361",
   "metadata": {
    "ExecuteTime": {
     "end_time": "2023-05-27T10:00:55.253677Z",
     "start_time": "2023-05-27T10:00:55.247203Z"
    }
   },
   "outputs": [],
   "source": [
    "pred_prob = model_loaded.predict_proba(X[:1])"
   ]
  },
  {
   "cell_type": "code",
   "execution_count": 34,
   "id": "832799f8",
   "metadata": {
    "ExecuteTime": {
     "end_time": "2023-05-27T10:01:01.522272Z",
     "start_time": "2023-05-27T10:01:01.509340Z"
    }
   },
   "outputs": [
    {
     "data": {
      "text/plain": [
       "array([[0.98036364, 0.01963636]])"
      ]
     },
     "execution_count": 34,
     "metadata": {},
     "output_type": "execute_result"
    }
   ],
   "source": [
    "pred_prob"
   ]
  },
  {
   "cell_type": "code",
   "execution_count": null,
   "id": "9bc61f79",
   "metadata": {},
   "outputs": [],
   "source": []
  }
 ],
 "metadata": {
  "kernelspec": {
   "display_name": "Python 3 (ipykernel)",
   "language": "python",
   "name": "python3"
  },
  "language_info": {
   "codemirror_mode": {
    "name": "ipython",
    "version": 3
   },
   "file_extension": ".py",
   "mimetype": "text/x-python",
   "name": "python",
   "nbconvert_exporter": "python",
   "pygments_lexer": "ipython3",
   "version": "3.9.13"
  },
  "toc": {
   "base_numbering": 1,
   "nav_menu": {},
   "number_sections": true,
   "sideBar": true,
   "skip_h1_title": false,
   "title_cell": "Table of Contents",
   "title_sidebar": "Contents",
   "toc_cell": false,
   "toc_position": {},
   "toc_section_display": true,
   "toc_window_display": true
  }
 },
 "nbformat": 4,
 "nbformat_minor": 5
}
